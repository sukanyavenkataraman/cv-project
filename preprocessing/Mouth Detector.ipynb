{
 "cells": [
  {
   "cell_type": "markdown",
   "metadata": {},
   "source": [
    "# Mouth Detector\n",
    "This script detects the mouth region and draws a bounding rectangle around it."
   ]
  },
  {
   "cell_type": "code",
   "execution_count": 2,
   "metadata": {},
   "outputs": [],
   "source": [
    "import cv2\n",
    "import numpy as np\n",
    "import os"
   ]
  },
  {
   "cell_type": "markdown",
   "metadata": {},
   "source": [
    "Load the Haar-Cascade face detector"
   ]
  },
  {
   "cell_type": "code",
   "execution_count": 7,
   "metadata": {},
   "outputs": [],
   "source": [
    "PATH = \"classifiers\"\n",
    "faceCascade = cv2.CascadeClassifier(os.path.join(PATH, \"haar-face.xml\"))"
   ]
  },
  {
   "cell_type": "markdown",
   "metadata": {},
   "source": [
    "Opens the camera and detects the face"
   ]
  },
  {
   "cell_type": "code",
   "execution_count": 10,
   "metadata": {},
   "outputs": [],
   "source": [
    "# capture frames from a camera\n",
    "camera = cv2.VideoCapture(0)\n",
    " \n",
    "while True: \n",
    " \n",
    "    # reads frames from the camera\n",
    "    ret, frame = camera.read() \n",
    " \n",
    "    # convert to gray scale of each frames\n",
    "    gray = cv2.cvtColor(frame, cv2.COLOR_BGR2GRAY)\n",
    " \n",
    "    # Detects faces of different sizes in the input image\n",
    "    faces = faceCascade.detectMultiScale(gray, 1.3, 5)\n",
    " \n",
    "    for (x,y,w,h) in faces:\n",
    "        # Draw a rectangle around the face\n",
    "        cv2.rectangle(frame, (x,y), (x+w, y+h), (255,255,0), 2) \n",
    "        \n",
    "        # Capture the 4 corners of the mouth region, by approximating from the coordinates of the face\n",
    "        xCoordinateLeft = x + (w // 4)\n",
    "        xCoordinateRight = x + ((3 * w) // 4)\n",
    "        yCoordinateTop = y + (11 * h // 16)\n",
    "        yCoordinateBottom = y + h\n",
    "        \n",
    "        # Get the coordinates in the captured frame\n",
    "        mouthRegion = frame[yCoordinateTop:yCoordinateBottom, xCoordinateLeft:xCoordinateRight]\n",
    "        \n",
    "        # Draw a rectangle around the mouth\n",
    "        cv2.rectangle(frame, (xCoordinateLeft, yCoordinateTop), (xCoordinateRight, yCoordinateBottom), (0,0,255), 2)\n",
    " \n",
    "    # Display an image in a window\n",
    "    cv2.imshow('frame',frame)\n",
    " \n",
    "    # Press 'q' key to stop\n",
    "    if cv2.waitKey(1) & 0xFF == ord('q'):\n",
    "        break\n",
    "\n",
    "# Close the window\n",
    "camera.release()\n",
    " \n",
    "# De-allocate any associated memory usage\n",
    "cv2.destroyAllWindows()"
   ]
  },
  {
   "cell_type": "code",
   "execution_count": null,
   "metadata": {},
   "outputs": [],
   "source": []
  }
 ],
 "metadata": {
  "kernelspec": {
   "display_name": "Python 3",
   "language": "python",
   "name": "python3"
  },
  "language_info": {
   "codemirror_mode": {
    "name": "ipython",
    "version": 3
   },
   "file_extension": ".py",
   "mimetype": "text/x-python",
   "name": "python",
   "nbconvert_exporter": "python",
   "pygments_lexer": "ipython3",
   "version": "3.5.0"
  },
  "toc": {
   "nav_menu": {},
   "number_sections": true,
   "sideBar": true,
   "skip_h1_title": true,
   "title_cell": "Table of Contents",
   "title_sidebar": "Contents",
   "toc_cell": false,
   "toc_position": {},
   "toc_section_display": true,
   "toc_window_display": false
  }
 },
 "nbformat": 4,
 "nbformat_minor": 2
}
